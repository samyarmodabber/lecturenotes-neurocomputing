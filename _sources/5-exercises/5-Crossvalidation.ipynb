{
 "cells": [
  {
   "cell_type": "markdown",
   "metadata": {},
   "source": [
    "# Cross-validation and polynomial regression"
   ]
  },
  {
   "cell_type": "markdown",
   "metadata": {},
   "source": [
    "## Polynomial regression\n",
    "\n",
    "Polynomial regression consists of fitting some data $(x, y)$ to a $n$-order polynomial of the form:\n",
    "\n",
    "$$\n",
    " y = f(x) = b + w_1 \\cdot x + w_2 \\cdot x^2 + ... + w_n \\cdot x^n\n",
    "$$\n",
    " \n",
    "By rewriting the unidimensional input $x$ into the following vector:\n",
    "\n",
    "$$\n",
    " \\mathbf{x} = \\begin{bmatrix} x & x^2 & ... & x^n \\end{bmatrix}^T\n",
    "$$\n",
    "\n",
    "and the weight vector as:\n",
    "\n",
    "$$\n",
    " \\mathbf{w} = \\begin{bmatrix} w_1 & w_2 & ... & w_n \\end{bmatrix}^T\n",
    "$$\n",
    " \n",
    "the problem can be reduced to linear regression:\n",
    "\n",
    "$$\n",
    " y = \\langle \\mathbf{w} \\cdot \\mathbf{x} \\rangle + b\n",
    "$$\n",
    " \n",
    " and we can apply the delta learning rule to find $\\mathbf{w}$ and $b$:\n",
    "\n",
    "$$\n",
    " \\Delta \\mathbf{w} =  \\eta \\, (t_i - y_i ) \\, \\mathbf{x_i}\n",
    "$$\n",
    "$$\n",
    " \\Delta b =  \\eta \\cdot (t_i - y_i ) \n",
    "$$\n",
    "\n",
    "A first method to perform polynomial regression would be to adapt the code you wrote in the last exercise session for linear regression. However, you saw that properly setting the correct learning rate can be quite tricky. \n",
    "\n",
    "The solution retained for this exercise is to use the built-in functions of Numpy which can already perform polynomial regression in an optimized and proved-sure manner (Note: NumPy does not use gradient descent, but rather directly minimizes the error-function by inversing the Gram matrix).\n",
    "\n",
    "```python\n",
    "w = np.polyfit(X, t, deg)\n",
    "```\n",
    "\n",
    "This function takes the inputs $X$, the desired outputs $t$ and the desired degree of the polynomial `deg`, performs the polynomial regression and returns the adequate set of weights (beware: the higher-order coefficient comes first, the bias is last).\n",
    "\n",
    "Once the weights are obtained, one can use them to predict the value of an example with the function:\n",
    "\n",
    "```python\n",
    "y = np.polyval(w, X)\n",
    "```\n",
    "\n",
    "*Note:* if you prefer to use scikit-learn, check <https://scikit-learn.org/stable/auto_examples/linear_model/plot_polynomial_interpolation.html> but see <https://towardsdatascience.com/polynomial-regression-with-scikit-learn-what-you-should-know-bed9d3296f2> for why it may be a bad idea.\n",
    "\n",
    "Let's start by importing the usual stuff and create a dataset of 16 samples generated using the function $x \\, \\sin x$ plus some noise:"
   ]
  },
  {
   "cell_type": "code",
   "execution_count": 1,
   "metadata": {},
   "outputs": [],
   "source": [
    "import numpy as np\n",
    "import matplotlib.pyplot as plt\n",
    "\n",
    "# Just to avoid the annoying warnings, please ignore\n",
    "def warn(*args, **kwargs):\n",
    "    pass\n",
    "import warnings\n",
    "warnings.warn = warn\n",
    " \n",
    "def create_dataset(N, noise):\n",
    "    \"Creates a dataset of N points generated from x*sin(x) plus some noise.\"\n",
    "    \n",
    "    x = np.linspace(0, 10, 300)\n",
    "    rng = np.random.default_rng()\n",
    "    rng.shuffle(x)\n",
    "    x = np.sort(x[:N])\n",
    "    t = x * np.sin(x) + noise*rng.uniform(-1.0, 1.0, N)\n",
    "    \n",
    "    return x, t\n",
    "\n",
    "N = 16\n",
    "X, t = create_dataset(N, noise=0.2)"
   ]
  },
  {
   "cell_type": "code",
   "execution_count": 5,
   "metadata": {},
   "outputs": [
    {
     "data": {
      "image/png": "[encoded data removed]",
      "text/plain": [
       "<Figure size 720x432 with 1 Axes>"
      ]
     },
     "metadata": {
      "needs_background": "light"
     },
     "output_type": "display_data"
    }
   ],
   "source": [
    "x = np.linspace(0, 10, 100)\n",
    "\n",
    "plt.figure(figsize=(10, 6))\n",
    "plt.plot(x, x*np.sin(x), label=\"Ground truth\")\n",
    "plt.scatter(X, t)\n",
    "plt.legend()\n",
    "plt.show()"
   ]
  },
  {
   "cell_type": "markdown",
   "metadata": {},
   "source": [
    "**Q:** Apply the `np.polyfit()` function on the data and visualize the result for different degrees of the polynomial (from 1 to 20 or even more). What do you observe? Find a polynomial degree which clearly overfits."
   ]
  },
  {
   "cell_type": "code",
   "execution_count": null,
   "metadata": {},
   "outputs": [],
   "source": []
  },
  {
   "cell_type": "markdown",
   "metadata": {},
   "source": [
    "**Q:** Plot the mean square error on the training set for all polynomial regressions from 1 to 20. How does the training error evolve when the degree of the polynomial is increased? What is the risk by taking the hypothesis with the smallest training error? "
   ]
  },
  {
   "cell_type": "code",
   "execution_count": null,
   "metadata": {},
   "outputs": [],
   "source": []
  },
  {
   "cell_type": "markdown",
   "metadata": {},
   "source": [
    "## Simple hold-out cross-validation"
   ]
  },
  {
   "cell_type": "markdown",
   "metadata": {},
   "source": [
    "You will now apply **simple hold-out cross-validation** to find the optimal degree for the polynomial regression. You will need to separate the data set into a training set $S_{\\text{train}}$ (70% of the data) and a test set $S_{\\text{test}}$ (the remaining 30%). \n",
    "\n",
    "The data (X, t) could be easily split into two sets of arrays using slices of indices, as the data is already randomized:\n",
    "\n",
    "```python\n",
    "N_train = int(0.7*N)\n",
    "X_train, t_train = X[:N_train], t[:N_train]\n",
    "X_test, t_test = X[N_train:], t[N_train:]\n",
    "```\n",
    "\n",
    "A much more generic approach is to use the library `scikit-learn` (<https://www.scikit-learn.org>), which provides a method able to split any dataset randomly. \n",
    "\n",
    "You can import the method `train_test_split()` from its module:"
   ]
  },
  {
   "cell_type": "code",
   "execution_count": 3,
   "metadata": {},
   "outputs": [],
   "source": [
    "from sklearn.model_selection import train_test_split"
   ]
  },
  {
   "cell_type": "markdown",
   "metadata": {},
   "source": [
    "The doc of the function is available at: <https://scikit-learn.org/stable/modules/generated/sklearn.model_selection.train_test_split.html>.\n",
    "\n",
    "**Q:** Use scikit-learn to split the data into the corresponding training and test sets. Train each polynomial from degree 1 to 20 on $S_{\\text{train}}$ and plot the generalization error on $S_{\\text{test}}$. Which degree of the polynomial gives the minimal empirical error? Why? Run the cross-validation split multiple times. Do you always obtain the same optimal degree? "
   ]
  },
  {
   "cell_type": "code",
   "execution_count": null,
   "metadata": {},
   "outputs": [],
   "source": []
  },
  {
   "cell_type": "markdown",
   "metadata": {},
   "source": [
    "## k-fold cross-validation"
   ]
  },
  {
   "cell_type": "markdown",
   "metadata": {},
   "source": [
    "As we only have 16 samples to learn from, it is quite annoying to \"lose\" 5 of them for the test set. Here we can afford to use **k-fold cross-validation**, where the cross-validation split is performed $k$ times:\n",
    "\n",
    "* The dataset is split into $k$ subsets of equal size (if possible).\n",
    "* Each subset is iteratively used as the test set, while the $k-1$ other ones are used as a training set.\n",
    "* The final empirical error is the average of the mse on all subsets.\n",
    "\n",
    "It would be possible to make the splits using indices too, but it is much easier to use `scikit-learn` once again. You can import the `KFold` class like this:"
   ]
  },
  {
   "cell_type": "code",
   "execution_count": 4,
   "metadata": {},
   "outputs": [],
   "source": [
    "from sklearn.model_selection import KFold\n",
    "\n",
    "k = 4\n",
    "kf = KFold(n_splits=k, shuffle=True)"
   ]
  },
  {
   "cell_type": "markdown",
   "metadata": {},
   "source": [
    "`n_splits` corresponds to $k$: how many times the dataset is split. We can take $k=4$ for example (4 subsets of 4 samples).\n",
    "\n",
    "**Q:** Check the doc of `KFold` (<https://scikit-learn.org/stable/modules/generated/sklearn.model_selection.KFold.html>). Print the indices of the examples of the training and test sets for each iteration of the algorithm. Change the value of $k$ to understand how it works."
   ]
  },
  {
   "cell_type": "code",
   "execution_count": null,
   "metadata": {},
   "outputs": [],
   "source": []
  },
  {
   "cell_type": "markdown",
   "metadata": {},
   "source": [
    "**Q:** Apply k-fold cross-validation on the polynomial regression problem. Which polynomial degree is the best? Run the split multiple times: does the best polynomial degree change?"
   ]
  },
  {
   "cell_type": "code",
   "execution_count": null,
   "metadata": {},
   "outputs": [],
   "source": []
  },
  {
   "cell_type": "markdown",
   "metadata": {},
   "source": [
    "**Q:** Change $k$ to $N$. How stable are the results between two runs?"
   ]
  },
  {
   "cell_type": "code",
   "execution_count": null,
   "metadata": {},
   "outputs": [],
   "source": []
  },
  {
   "cell_type": "markdown",
   "metadata": {},
   "source": [
    "**Q:** Regenerate the data with a noise equal to 0.0 and re-run all experiments. What does it change?"
   ]
  }
 ],
 "metadata": {
  "kernelspec": {
   "display_name": "Python 3",
   "language": "python",
   "name": "python3"
  },
  "language_info": {
   "codemirror_mode": {
    "name": "ipython",
    "version": 3
   },
   "file_extension": ".py",
   "mimetype": "text/x-python",
   "name": "python",
   "nbconvert_exporter": "python",
   "pygments_lexer": "ipython3",
   "version": "3.8.5"
  }
 },
 "nbformat": 4,
 "nbformat_minor": 4
}
