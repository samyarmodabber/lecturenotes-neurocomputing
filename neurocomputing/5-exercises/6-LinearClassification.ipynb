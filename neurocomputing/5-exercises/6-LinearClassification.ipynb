{
 "cells": [
  {
   "cell_type": "markdown",
   "metadata": {
    "slideshow": {
     "slide_type": "slide"
    }
   },
   "source": [
    "# Linear classification\n",
    "\n",
    "The goal of this exercise is to study hard and soft binary linear classification."
   ]
  },
  {
   "cell_type": "code",
   "execution_count": 1,
   "metadata": {},
   "outputs": [],
   "source": [
    "import numpy as np\n",
    "import matplotlib.pyplot as plt"
   ]
  },
  {
   "cell_type": "markdown",
   "metadata": {},
   "source": [
    "## Hard linear classification: perceptron algorithm"
   ]
  },
  {
   "cell_type": "markdown",
   "metadata": {},
   "source": [
    "### Linearly separable data\n",
    "\n",
    "We start by generating a binary linear classification dataset with 100 examples (50 in each class). You do not need to read the code generating the data, we just randomly select 100 point in $[0, 1]^2$ and assign a label depending on their position."
   ]
  },
  {
   "cell_type": "code",
   "execution_count": 2,
   "metadata": {},
   "outputs": [],
   "source": [
    "def create_dataset(n_samples):\n",
    "    \n",
    "    rng = np.random.default_rng()\n",
    "    \n",
    "    X = rng.uniform(0.0, 1.0, (n_samples, 2))\n",
    "    \n",
    "    t = np.array([1 if X[i, 0] + X[i, 1] > 1. else -1 for i in range(n_samples)])\n",
    "    \n",
    "    return X, t\n",
    "\n",
    "X, t = create_dataset(100)"
   ]
  },
  {
   "cell_type": "markdown",
   "metadata": {},
   "source": [
    "Let's visualize the training set now in the following cell. Samples of the positive class (t=1) will be represented by blue points, examples of the negative class (t=-1) by orange ones."
   ]
  },
  {
   "cell_type": "code",
   "execution_count": 3,
   "metadata": {},
   "outputs": [
    {
     "data": {
      "image/png": "[encoded data removed]",
      "text/plain": [
       "<Figure size 720x432 with 1 Axes>"
      ]
     },
     "metadata": {
      "needs_background": "light"
     },
     "output_type": "display_data"
    }
   ],
   "source": [
    "plt.figure(figsize=(10, 6))\n",
    "plt.scatter(X[t==1, 0], X[t==1, 1])\n",
    "plt.scatter(X[t==-1, 0], X[t==-1, 1])\n",
    "plt.show()"
   ]
  },
  {
   "cell_type": "markdown",
   "metadata": {},
   "source": [
    "You will now implement the **online version of the Perceptron algorithm** to classify this data set.\n",
    "\n",
    "As a reminder from the course, we will use an hyperplane $(\\mathbf{w}, b)$ to **predict** whether an input $\\mathbf{x}_i$ belongs to the positive class (+1) or negative class (-1) using the following function:\n",
    "\n",
    "$$\n",
    "    y_i =  \\text{sign}( \\langle \\mathbf{w} . \\mathbf{x}_i \\rangle + b)\n",
    "$$\n",
    "\n",
    "Our goal is to minimize the **mean square error** (mse) of the hyperplane on the training set:\n",
    "\n",
    "$$\n",
    "    L(\\mathbf{w}, b) = \\frac{1}{N} \\, \\sum_{i=1}^N (t_i - y_i)^2\n",
    "$$\n",
    "\n",
    "By applying gradient descent on this loss function, we obtain the **delta learning rule**:\n",
    "\n",
    "$$\n",
    "    \\Delta \\mathbf{w} = \\eta \\, \\sum_{i=1}^N (t_i - y_i) \\, \\mathbf{x}_i\n",
    "$$\n",
    "\n",
    "$$\n",
    "    \\Delta b = \\eta \\, \\sum_{i=1}^N (t_i - y_i) \n",
    "$$\n",
    "\n",
    "The online version of the Perceptron is given by the following algorithm:\n",
    "\n",
    "$\\text{Initialize the weight vector } \\mathbf{w} \\text{ and the bias } b.$\n",
    "\n",
    "$\\textbf{for } M \\text{epochs:}$\n",
    "\n",
    "$\\qquad \\textbf{forall } \\text{examples } (\\mathbf{x}_i, t_i) :$\n",
    "\n",
    "$\\qquad \\qquad y_i =  \\text{sign}( \\langle \\mathbf{w} . \\mathbf{x}_i \\rangle + b)$\n",
    "\n",
    "$\\qquad \\qquad \\mathbf{w} \\gets \\mathbf{w} + \\eta \\, (t_i - y_i) \\, \\mathbf{x}_i$\n",
    "\n",
    "$\\qquad \\qquad b \\gets b + \\eta \\, (t_i - y_i)$\n",
    "\n",
    "\n",
    "**Q:** Implement the algorithm based on the linear regression algorithm of exercise 3. The only difference is that the weight vector is now a vector... You will need to use `np.dot`. Use 20 epochs and a learning rate of 0.01 at first, but you can vary it later. Initialize the weight vector and the bias to 0. Make a plot of the mse during training."
   ]
  },
  {
   "cell_type": "code",
   "execution_count": null,
   "metadata": {},
   "outputs": [],
   "source": []
  },
  {
   "cell_type": "markdown",
   "metadata": {},
   "source": [
    "**Q:** Visualize the hyperplane. If we call $x_0$ and $x_1$ the two coordinates of the inputs, the equation of the hyperplane is:\n",
    "\n",
    "$$w_0 \\, x_0 + w_1 \\, x_1 + b = 0$$\n",
    "\n",
    "which takes the form:\n",
    "\n",
    "$$x_1 = - (w_0 \\, x_0 + b) / w_1$$\n",
    "\n",
    "You just need to draw a line between the two extremities of the hyperplane, for example between 0 and 1 or between `X[:, 0].min()` and `X[:, 0].max()`."
   ]
  },
  {
   "cell_type": "code",
   "execution_count": null,
   "metadata": {},
   "outputs": [],
   "source": []
  },
  {
   "cell_type": "markdown",
   "metadata": {},
   "source": [
    "Before going further, let's track the evolution of the classification error during learning, defined as the fraction of incorrectly classified examples during one epoch:\n",
    "\n",
    "$$\n",
    "    \\epsilon = \\frac{\\text{# misclassifications}}{N}\n",
    "$$\n",
    "\n",
    "**Q:** Modify your algorithm to compute the training error and the mse loss for each epoch. How do the training error and loss evolve during learning? Do you really need both?\n",
    "\n",
    "*Tips:* When iterating over each training example, you will need to increment a counter for misclassifications when your prediction `y_i` is different from `t[i]` (use `!=` for \"not equal\"). "
   ]
  },
  {
   "cell_type": "code",
   "execution_count": null,
   "metadata": {},
   "outputs": [],
   "source": []
  },
  {
   "cell_type": "markdown",
   "metadata": {},
   "source": [
    "**Q:** Now is the time to play with the hyperparameters:\n",
    "    \n",
    "1. Vary the learning rate `eta` between extreme values (from 0.000001 to 100.0). \n",
    "2. Increase the number of epochs `nb_epochs`.\n",
    "\n",
    "What does it change?    "
   ]
  },
  {
   "cell_type": "code",
   "execution_count": null,
   "metadata": {},
   "outputs": [],
   "source": []
  },
  {
   "cell_type": "markdown",
   "metadata": {},
   "source": [
    "**Q:** Change the initial value of the weight vector $\\mathbf{w}$ to something different from 0 (e.g. [1, -1], [-5, 5], etc). What does it change? Vary the learning rate again and conclude on the importance of weight initialization."
   ]
  },
  {
   "cell_type": "code",
   "execution_count": null,
   "metadata": {},
   "outputs": [],
   "source": []
  },
  {
   "cell_type": "markdown",
   "metadata": {},
   "source": [
    "### Non-linearly separable data\n",
    "\n",
    "The generated dataset was obviously linearly separable, because you found a linear hyperplane able to classify it... Let's now see what happens when you apply your algorithm on a non-linearly separable dataset. It is basically the same method as before, except that we add one outlier at the end."
   ]
  },
  {
   "cell_type": "code",
   "execution_count": 4,
   "metadata": {},
   "outputs": [],
   "source": [
    "def create_dataset(n_samples):\n",
    "    \n",
    "    rng = np.random.default_rng()\n",
    "    X = rng.uniform(0.0, 1.0, (n_samples-1, 2))\n",
    "    t = np.array([1 if X[i, 0] + X[i, 1] > 1. else -1 for i in range(n_samples-1)])\n",
    "    \n",
    "    # Outlier\n",
    "    X = np.append(X, np.array([0.1, 0.1]).reshape((1, 2)), axis=0)\n",
    "    t = np.append(t, [1])\n",
    "    return X, t\n",
    "\n",
    "X, t = create_dataset(100)"
   ]
  },
  {
   "cell_type": "code",
   "execution_count": 5,
   "metadata": {},
   "outputs": [
    {
     "data": {
      "image/png": "[encoded data removed]",
      "text/plain": [
       "<Figure size 720x432 with 1 Axes>"
      ]
     },
     "metadata": {
      "needs_background": "light"
     },
     "output_type": "display_data"
    }
   ],
   "source": [
    "plt.figure(figsize=(10, 6))\n",
    "plt.scatter(X[t==1, 0], X[t==1, 1])\n",
    "plt.scatter(X[t==-1, 0], X[t==-1, 1])\n",
    "plt.show()"
   ]
  },
  {
   "cell_type": "markdown",
   "metadata": {},
   "source": [
    "**Q:** Apply your online Perceptron algorithm (with default values: `eta = 0.1`, `nb_epochs = 20`,$\\mathbf{w}$ and $b$ initialized to 0) to the non-linear data. At the end of learning, compute the final error on the training set. What do you observe? Is it a satisfying result? Does it get better when you change the learning rate or weight initialization?"
   ]
  },
  {
   "cell_type": "code",
   "execution_count": null,
   "metadata": {},
   "outputs": [],
   "source": []
  },
  {
   "cell_type": "markdown",
   "metadata": {},
   "source": [
    "## Soft linear classification: logistic regression"
   ]
  },
  {
   "cell_type": "markdown",
   "metadata": {},
   "source": [
    "Let's now see whether **logistic regression** helps us with outliers. The following cell implements the logistic function:\n",
    "\n",
    "$$\\sigma(x) = \\dfrac{1}{1 + e^{-x}}$$"
   ]
  },
  {
   "cell_type": "code",
   "execution_count": null,
   "metadata": {},
   "outputs": [],
   "source": [
    "def logistic(x):\n",
    "    return 1. / (1 + np.exp(-x))"
   ]
  },
  {
   "cell_type": "markdown",
   "metadata": {},
   "source": [
    "In logistic regression, the prediction $y = \\sigma(w \\, x + b)$ represents the probability of belonging to the positive class. If $y>0.5$, we can say that the example belongs to the positive class.\n",
    "\n",
    "As seen in the course, there is absolutely no difference in the learning algorithm apart from using the logistic function instead of the sign. One thing to take care of, though, is that the targets $t_i$ should be 0 and 1 in the logistic regression algorithm, while they are -1 and 1 in the current vector $\\mathbf{t}$. The following cell transforms the array `t` to match the output of the logistic function."
   ]
  },
  {
   "cell_type": "code",
   "execution_count": null,
   "metadata": {},
   "outputs": [],
   "source": [
    "t[t==-1] = 0"
   ]
  },
  {
   "cell_type": "markdown",
   "metadata": {},
   "source": [
    "**Q:** Implement the logistic regression algorithm on the non-linear data. When computing the error, you will need to predict the class based on the probability $y$. What do you observe? Conclude."
   ]
  },
  {
   "cell_type": "code",
   "execution_count": null,
   "metadata": {},
   "outputs": [],
   "source": []
  }
 ],
 "metadata": {
  "kernelspec": {
   "display_name": "Python 3 (ipykernel)",
   "language": "python",
   "name": "python3"
  },
  "language_info": {
   "codemirror_mode": {
    "name": "ipython",
    "version": 3
   },
   "file_extension": ".py",
   "mimetype": "text/x-python",
   "name": "python",
   "nbconvert_exporter": "python",
   "pygments_lexer": "ipython3",
   "version": "3.9.7"
  }
 },
 "nbformat": 4,
 "nbformat_minor": 4
}
