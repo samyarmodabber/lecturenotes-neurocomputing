{
 "cells": [
  {
   "cell_type": "markdown",
   "metadata": {},
   "source": [
    "# Softmax classification"
   ]
  },
  {
   "cell_type": "markdown",
   "metadata": {},
   "source": [
    "In this exercise, you will implement a softmax classifier for multi-class classification."
   ]
  },
  {
   "cell_type": "code",
   "execution_count": 1,
   "metadata": {},
   "outputs": [],
   "source": [
    "import numpy as np\n",
    "import matplotlib.pyplot as plt"
   ]
  },
  {
   "cell_type": "markdown",
   "metadata": {},
   "source": [
    "## Loading the data"
   ]
  },
  {
   "cell_type": "markdown",
   "metadata": {},
   "source": [
    "Let's now import the `digits` dataset provided by `scikit-learn`:\n",
    "\n",
    "<https://scikit-learn.org/stable/modules/generated/sklearn.datasets.load_digits.html>\n",
    "\n",
    "It contains 1797 small (8x8) black and white images of digits between 0 and 9. \n",
    "\n",
    "The two following cells load the data and visualize 16 images chosen randomly."
   ]
  },
  {
   "cell_type": "code",
   "execution_count": 2,
   "metadata": {},
   "outputs": [],
   "source": [
    "from sklearn.datasets import load_digits\n",
    "digits = load_digits()\n",
    "\n",
    "N, w, h = digits.images.shape\n",
    "d = w * h # number of pixels\n",
    "c = len(digits.target_names) # number of classes"
   ]
  },
  {
   "cell_type": "code",
   "execution_count": 3,
   "metadata": {},
   "outputs": [
    {
     "data": {
      "image/png": "[encoded data removed]",
      "text/plain": [
       "<Figure size 1152x1152 with 16 Axes>"
      ]
     },
     "metadata": {
      "needs_background": "light"
     },
     "output_type": "display_data"
    }
   ],
   "source": [
    "rng = np.random.default_rng()\n",
    "indices = rng.choice(N, 16)\n",
    "plt.figure(figsize=(16, 16))\n",
    "for i in range(16):\n",
    "    plt.subplot(4, 4, i+1)\n",
    "    plt.imshow(digits.images[indices[i], :], cmap=\"gray\")\n",
    "    plt.title(\"Label: \"+ str(digits.target[indices[i]]))\n",
    "plt.show()"
   ]
  },
  {
   "cell_type": "markdown",
   "metadata": {},
   "source": [
    "Digits are indeed to be recognized, the hope being that they are linearly separable and we can apply a softmax classifier directly on the pixels. \n",
    "\n",
    "The only problem is that each image is a 8x8 matrix, while we want vectors for our model. Fortunately, that is very easy with `reshape`:"
   ]
  },
  {
   "cell_type": "code",
   "execution_count": 4,
   "metadata": {},
   "outputs": [
    {
     "name": "stdout",
     "output_type": "stream",
     "text": [
      "(1797, 64)\n"
     ]
    }
   ],
   "source": [
    "X = digits.images.reshape((N, d))\n",
    "print(X.shape)"
   ]
  },
  {
   "cell_type": "markdown",
   "metadata": {},
   "source": [
    "Let's know have a look at the targets, i.e. the ground truth / labels of each digit:"
   ]
  },
  {
   "cell_type": "code",
   "execution_count": 5,
   "metadata": {},
   "outputs": [
    {
     "name": "stdout",
     "output_type": "stream",
     "text": [
      "[0 1 2 ... 8 9 8]\n",
      "(1797,)\n"
     ]
    }
   ],
   "source": [
    "labels = digits.target\n",
    "print(labels)\n",
    "print(labels.shape)"
   ]
  },
  {
   "cell_type": "markdown",
   "metadata": {},
   "source": [
    "Each label is an integer between 0 and 9, while our softmax classifier expects a **one-hot-encoded** vector of 10 classes, with only one non-zero element, for example for digit 3:\n",
    "\n",
    "$$[0, 0, 0, 1, 0, 0, 0, 0, 0, 0]$$\n",
    "\n",
    "To do the conversion, we can once again use a built-in method of `scikit-learn`:"
   ]
  },
  {
   "cell_type": "code",
   "execution_count": 6,
   "metadata": {},
   "outputs": [
    {
     "name": "stdout",
     "output_type": "stream",
     "text": [
      "[[1. 0. 0. ... 0. 0. 0.]\n",
      " [0. 1. 0. ... 0. 0. 0.]\n",
      " [0. 0. 1. ... 0. 0. 0.]\n",
      " ...\n",
      " [0. 0. 0. ... 0. 1. 0.]\n",
      " [0. 0. 0. ... 0. 0. 1.]\n",
      " [0. 0. 0. ... 0. 1. 0.]]\n",
      "(1797, 10)\n"
     ]
    }
   ],
   "source": [
    "from sklearn.preprocessing import OneHotEncoder\n",
    "\n",
    "t = OneHotEncoder().fit_transform(labels.reshape(-1, 1)).toarray()\n",
    "\n",
    "print(t)\n",
    "print(t.shape)"
   ]
  },
  {
   "cell_type": "markdown",
   "metadata": {},
   "source": [
    "**Q:** Split the data into a training set `X_train, t_train` and a test set `X_test, t_test` using `scikit-learn` (e.g. with a ratio 70/30)."
   ]
  },
  {
   "cell_type": "code",
   "execution_count": 7,
   "metadata": {},
   "outputs": [
    {
     "name": "stdout",
     "output_type": "stream",
     "text": [
      "1257 training samples, 540 test samples.\n"
     ]
    }
   ],
   "source": [
    "from sklearn.model_selection import train_test_split\n",
    "\n",
    "X_train, X_test, t_train, t_test = train_test_split(X, t, test_size=0.3)\n",
    "\n",
    "N_train = X_train.shape[0]\n",
    "N_test = X_test.shape[0]\n",
    "\n",
    "print(N_train, \"training samples,\", N_test, \"test samples.\")"
   ]
  },
  {
   "cell_type": "markdown",
   "metadata": {},
   "source": [
    "## Softmax linear classifier"
   ]
  },
  {
   "cell_type": "markdown",
   "metadata": {},
   "source": [
    "Let's remember the structure of the softmax linear classifier: the input vector $\\mathbf{x}$ is transformed into a **logit score** vector $\\mathbf{z}$ using a weight matrix $W$ and a bias vector $\\mathbf{b}$:\n",
    "\n",
    "$$\n",
    "    \\mathbf{z} = W \\times \\mathbf{x} + \\mathbf{b}\n",
    "$$\n",
    "\n",
    "This logit score has one element per class, so the weight matrix must have a size $(c, d)$, where $c$ is the number of classes (3) and $d$ is the number of dimensions of the input space (2). The bias vector has 3 elements (one per class).\n",
    "\n",
    "The logit score is turned into probabilities using the **softmax** operator:\n",
    "\n",
    "$$\n",
    "    y_j = P(\\text{class = j}) = \\frac{\\exp(z_j)}{\\sum_k \\exp(z_k)}\n",
    "$$\n",
    "\n",
    "The following Python function allows to turn any vector $\\mathbf{z}$ (numpy array) into softmax probabilities:"
   ]
  },
  {
   "cell_type": "code",
   "execution_count": 8,
   "metadata": {},
   "outputs": [],
   "source": [
    "def softmax(z):\n",
    "    e = np.exp(z - z.max())\n",
    "    return e/np.sum(e)"
   ]
  },
  {
   "cell_type": "markdown",
   "metadata": {},
   "source": [
    "**Q:** Experiment with the `softmax()` to understand its function. Pass it different numpy arrays (e.g. [-1, 0, 2]) and print or plot the corresponding probabilities.  "
   ]
  },
  {
   "cell_type": "code",
   "execution_count": 9,
   "metadata": {},
   "outputs": [
    {
     "name": "stdout",
     "output_type": "stream",
     "text": [
      "[0.04201007 0.1141952  0.84379473]\n"
     ]
    }
   ],
   "source": [
    "z = np.array([-1, 0, 2])\n",
    "s = softmax(z)\n",
    "print(s)"
   ]
  },
  {
   "cell_type": "markdown",
   "metadata": {},
   "source": [
    "The loss function to use is the **cross-entropy** or **negative log-likelihood**, defined for a single example as:\n",
    "\n",
    "$$\n",
    "    \\mathcal{l}(W, \\mathbf{b}) =   - \\mathbf{t} \\cdot \\log \\mathbf{y} = - \\log y_j \n",
    "$$\n",
    "\n",
    "where $\\mathbf{t}$ is a one-hot encoding of the class of the example and $j$ is the index of the corresponding class.\n",
    "\n",
    "After doing the derivations, we obtain the following learning rules for $W$ and $\\mathbf{b}$ to minimize the loss function:\n",
    "\n",
    "$$\n",
    "    \\Delta W = \\eta \\, (\\mathbf{t} - \\mathbf{y}) \\, \\mathbf{x}^T\n",
    "$$\n",
    "\n",
    "$$\n",
    "    \\Delta \\mathbf{b} = \\eta \\, (\\mathbf{t} - \\mathbf{y})\n",
    "$$\n",
    "\n",
    "Note that because $W$ is a $(c, d)$ matrix, $\\Delta W$ too. $(\\mathbf{t} - \\mathbf{y}) \\, \\mathbf{x}^T$ is therefore the **outer product** between the error vector $\\mathbf{t} - \\mathbf{y}$ ($c$ elements) and the input vector $\\mathbf{x}$ ($d$ elements)."
   ]
  },
  {
   "cell_type": "markdown",
   "metadata": {},
   "source": [
    "## Implementation\n",
    "\n",
    "You will now modify your implementation of the online Perceptron algorithm from last week.\n",
    "\n",
    "Some things to keep in mind:\n",
    "\n",
    "* `W` must now be defined as a $(c, d)$ matrix (numpy array) and `b` as a vector with $c$ elements. Both can be initialized to 0.\n",
    "\n",
    "* When computing the logit score $\\mathbf{z} = W \\times \\mathbf{x} + \\mathbf{b}$, remember that `W` is now a matrix, so its position will matter in the dot product `np.dot`.\n",
    "\n",
    "* Use the `softmax()` function defined above on the whole vector instead of `np.sign()` or `logistic` to get the prediction $\\mathbf{y}$.\n",
    "\n",
    "* For $\\Delta W$, you will need the **outer** product between the vectors $\\mathbf{t} - \\mathbf{y}_\\text{train}$ and $\\mathbf{x}_\\text{train}$. Check the doc for `np.outer()`.\n",
    "\n",
    "* The one-hot encoding of the class of the example $i$ is now a vector with 10 elements `t_train[i, :]`. You can get the index of the corresponding class by looking at the position of its maximum with `t_train[i, :].argmax()`.\n",
    "\n",
    "* Similarly, the predicted class by the model can be identified by the class with the maximum probability: `y.argmax()`.\n",
    "\n",
    "* Do not forget to record and plot the evolution of the training error and loss. Compute the test error and loss at the end of learning.\n",
    "\n",
    "* Pick the right learning rate and number of epochs.\n",
    "\n",
    "**Q:** Let's go."
   ]
  },
  {
   "cell_type": "code",
   "execution_count": 10,
   "metadata": {},
   "outputs": [
    {
     "name": "stdout",
     "output_type": "stream",
     "text": [
      "Final training error: 0.0\n",
      "Final training loss: 0.005902052488010588\n",
      "Test error: 0.046296296296296294\n",
      "Test loss: 0.20035874867574222\n"
     ]
    },
    {
     "data": {
      "image/png": "[encoded data removed]",
      "text/plain": [
       "<Figure size 1080x432 with 2 Axes>"
      ]
     },
     "metadata": {
      "needs_background": "light"
     },
     "output_type": "display_data"
    }
   ],
   "source": [
    "# Parameters\n",
    "eta = 0.001\n",
    "nb_epochs = 100\n",
    "\n",
    "# Initialize the weight matrix and bias vector\n",
    "W = np.zeros((c, d))\n",
    "b = np.zeros(c)\n",
    "\n",
    "# Perceptron algorithm\n",
    "training_errors = []\n",
    "training_losses = []\n",
    "\n",
    "for epoch in range(nb_epochs):\n",
    "    error = 0\n",
    "    loss = 0.\n",
    "    \n",
    "    # Iterate over all training examples\n",
    "    for i in range(N_train):\n",
    "        \n",
    "        # Prediction\n",
    "        z = np.dot(W, X_train[i, :]) + b\n",
    "        \n",
    "        # Probability\n",
    "        y = softmax(z)\n",
    "        \n",
    "        # Update the weight\n",
    "        W += eta * np.outer((t_train[i, :] - y), X_train[i, :])\n",
    "        \n",
    "        # Update the bias\n",
    "        b += eta * (t_train[i, :] - y) \n",
    "        \n",
    "        # Increment the error if the maximum probability is different from the class\n",
    "        if y.argmax() != t_train[i, :].argmax():\n",
    "            error += 1\n",
    "        \n",
    "        # Accumulate the loss\n",
    "        loss -= np.log(y[t_train[i, :].argmax()])\n",
    "        \n",
    "    training_errors.append(error/N_train)\n",
    "    training_losses.append(loss/N_train)\n",
    "\n",
    "print(\"Final training error:\", error/N_train)\n",
    "print(\"Final training loss:\", loss/N_train)\n",
    "\n",
    "# Test error\n",
    "test_error = 0\n",
    "test_loss = 0\n",
    "\n",
    "# Iterate over all test examples\n",
    "for i in range(N_test):\n",
    "\n",
    "    # Prediction\n",
    "    z = np.dot(W, X_test[i, :]) + b\n",
    "\n",
    "    # Probability\n",
    "    y = softmax(z)\n",
    "\n",
    "    # Increment the error if the maximum probability is different from the class\n",
    "    if y.argmax() != t_test[i, :].argmax():\n",
    "        test_error += 1\n",
    "\n",
    "    # Accumulate the loss\n",
    "    test_loss -= np.log(y[t_test[i, :].argmax()])\n",
    "\n",
    "print(\"Test error:\", test_error/N_test)\n",
    "print(\"Test loss:\", test_loss/N_test)\n",
    "\n",
    "plt.figure(figsize=(15, 6))\n",
    "plt.subplot(121)\n",
    "plt.plot(training_errors)\n",
    "plt.title(\"Error\")\n",
    "plt.subplot(122)\n",
    "plt.plot(training_losses)\n",
    "plt.title(\"Cross-entropy loss\")\n",
    "plt.show()"
   ]
  },
  {
   "cell_type": "markdown",
   "metadata": {},
   "source": [
    "**Q:** With a small learning rate (0.001), what is the final training error and loss of the model? Is it what you expected? Why do they evolve like this? What about the test error/loss?\n",
    "\n",
    "*Hint:* you may need to avoid plotting the error/loss during the first 20 epochs or so to observe the effect."
   ]
  },
  {
   "cell_type": "markdown",
   "metadata": {},
   "source": [
    "**A:** The training error reaches quickly 0, but the loss still decreases for a number of epochs. This is because the probability vector `y` is a correct prediction for the class (the maximum probability corresponds to the correct class) but not with a probability of 1 yet. The loss continues to evolve even when there is no error, as it wants to bring the probability vector as close as possible to a binary vector.\n",
    "\n",
    "This is the main difference with the mean square error (mse) loss function: as soon as there are no errors, the mse loss becomes 0 and learning stops. In classification problems, one should therefore track the loss function, not the training error.\n",
    "\n",
    "The test error is higher than the final training error. as the examples were not use for training. This is a classical sign of **overfitting**, although the model is linear. Regularization may help."
   ]
  },
  {
   "cell_type": "markdown",
   "metadata": {},
   "source": [
    "**Q:** The following cell samples 12 misclassified images from the test and shows the predicted class together with the ground truth. What do you think?"
   ]
  },
  {
   "cell_type": "code",
   "execution_count": 11,
   "metadata": {},
   "outputs": [
    {
     "data": {
      "image/png": "[encoded data removed]",
      "text/plain": [
       "<Figure size 1152x864 with 12 Axes>"
      ]
     },
     "metadata": {
      "needs_background": "light"
     },
     "output_type": "display_data"
    }
   ],
   "source": [
    "misclassified = []\n",
    "\n",
    "for i in range(N_test):\n",
    "    c = softmax(np.dot(W, X_test[i, :]) + b).argmax()\n",
    "    if c != t_test[i, :].argmax():\n",
    "        misclassified.append([X_test[i, :].reshape((8, 8)), t_test[i, :].argmax(), c])\n",
    "        if len(misclassified) > 12: break\n",
    "        \n",
    "        \n",
    "plt.figure(figsize=(16, 12))\n",
    "for i in range(12):\n",
    "    if i < len(misclassified):\n",
    "        X, t, c = misclassified[i]\n",
    "        plt.subplot(3, 4, i+1)\n",
    "        plt.imshow(X, cmap=\"gray\")\n",
    "        plt.title(\"Label \" + str(t) + \" ; Prediction \" + str(c))\n",
    "    \n",
    "plt.show()"
   ]
  },
  {
   "cell_type": "markdown",
   "metadata": {},
   "source": [
    "**A:** for some misclassified images, the mistakes are quite understandable, so the classifier did a quite good job. Real-world data are never clean, there always are some bad annotations. It is therefore important to use methods that are robust to outliers, such as soft classifiers."
   ]
  }
 ],
 "metadata": {
  "kernelspec": {
   "display_name": "Python 3",
   "language": "python",
   "name": "python3"
  },
  "language_info": {
   "codemirror_mode": {
    "name": "ipython",
    "version": 3
   },
   "file_extension": ".py",
   "mimetype": "text/x-python",
   "name": "python",
   "nbconvert_exporter": "python",
   "pygments_lexer": "ipython3",
   "version": "3.8.6"
  }
 },
 "nbformat": 4,
 "nbformat_minor": 4
}
