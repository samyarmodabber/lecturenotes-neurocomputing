{
 "cells": [
  {
   "cell_type": "markdown",
   "metadata": {
    "slideshow": {
     "slide_type": "slide"
    }
   },
   "source": [
    "# Introduction To Python (notebook)"
   ]
  },
  {
   "cell_type": "markdown",
   "metadata": {
    "slideshow": {
     "slide_type": "slide"
    }
   },
   "source": [
    "## Introduction\n",
    "\n",
    "Python is a powerful, flexible programming language you can use for scientific computing, in web/Internet development, to write desktop graphical user interfaces (GUIs), create games, and much more.\n",
    "\n",
    "Python is an high-level, interpreted, object-oriented language written in C, which means it is compiled on-the-fly, at run-time execution.\n",
    "\n",
    "Its syntax is close to C, but without prototyping (whether a variable is an integer or a string will be automatically determined by the context).\n",
    "\n",
    "It can be executed either directly in an interpreter (à la Matlab), in a script or in a notebook (as here).\n",
    "\n",
    "The documentation on Python can be found at [http://docs.python.org](http://docs.python.org).\n",
    "\n",
    "\n",
    "Many resources to learn Python exist on the Web:\n",
    "\n",
    "-  Free book [Dive into Python](http://www.diveintopython.net/).\n",
    "-  [Learn Python the hard way](http://learnpythonthehardway.org).\n",
    "-  Learn Python on [Code academy](http://www.codecademy.com/tracks/python).\n",
    "-  Scipy lectures note [http://www.scipy-lectures.org](http://www.scipy-lectures.org/)\n",
    "-  An Introduction to Interactive Programming in Python on [Coursera](https://www.coursera.org/course/interactivepython)."
   ]
  },
  {
   "cell_type": "markdown",
   "metadata": {
    "slideshow": {
     "slide_type": "slide"
    }
   },
   "source": [
    "## Working With Python\n",
    "\n",
    "### Python Interpreter\n",
    "\n",
    "To start the Python interpreter, simply type its name in a terminal under Linux:\n",
    "\n",
    "```bash\n",
    "user@machine ~ $ python\n",
    "```\n",
    "\n",
    "```\n",
    "Python 3.7.4 (default, Jul 16 2019, 07:12:58) \n",
    "[GCC 9.1.0] on linux\n",
    "Type \"help\", \"copyright\", \"credits\" or \"license\" for more information.\n",
    ">>> \n",
    "\n",
    "```\n",
    "\n",
    "To exit Python call the `exit()` function (or `Ctrl+d`):\n",
    "\n",
    "```python\n",
    ">>> exit()\n",
    "```\n"
   ]
  },
  {
   "cell_type": "markdown",
   "metadata": {
    "slideshow": {
     "slide_type": "slide"
    }
   },
   "source": [
    "### Scripting\n",
    "\n",
    "Instead of using the interpreter, you can run scripts which can be executed sequentially. Simply edit a text file called `MyScript.py` containing for example:\n",
    "\n",
    "```python\n",
    "# MyScript.py\n",
    "# Implements the Hello World example.\n",
    "\n",
    "text = 'Hello World!' # define a string variable\n",
    "\n",
    "print(text)\n",
    "```\n",
    "\n",
    "The `#` character is used for comments. Execute this script by typing in a Terminal:\n",
    "\n",
    "```bash\n",
    "python MyScript.py\n",
    "```\n",
    "\n",
    "As it is a scripted language, each instruction in the script is executed from the beginning to the end, except for the declared functions or classes which can be used later.\n",
    "\n",
    "**Note:** In the B202/B201, it is advised to use `kate` or `kwrite` to edit Python files. The default editor bluefish is for html files..."
   ]
  },
  {
   "cell_type": "markdown",
   "metadata": {
    "slideshow": {
     "slide_type": "slide"
    }
   },
   "source": [
    "### Jupyter Notebooks\n",
    "\n",
    "A third recent (but very useful) option is to use Jupyter notebooks (formerly IPython notebooks). \n",
    "\n",
    "Jupyter notebooks allow you to edit Python code in your browser (but also Julia, R, Scala...) and run it locally. \n",
    "\n",
    "To launch a Jupyter notebook, type in a terminal:\n",
    "\n",
    "```bash\n",
    "jupyter notebook\n",
    "```\n",
    "\n",
    "and create a new notebook (Python 3)\n",
    "\n",
    "When a Jupyter notebook already exists (here `Python.ipynb`), you can also start it directly:\n",
    "\n",
    "```bash\n",
    "jupyter notebook Python.ipynb\n",
    "```\n",
    "\n",
    "The main particularity is that code is not executed sequentially from the beginning to the end, but only when a **cell** is explicitly run with **Ctrl + Enter** (the active cell stays the same) or **Shift + Enter** (the next cell becomes active).\n",
    "\n",
    "To edit a cell, select it and press **Enter** (or double-click).\n",
    "\n",
    "In the next cell, run the Hello World! example:\n",
    "\n",
    "```python\n",
    "text = 'Hello World!'\n",
    "print(text)\n",
    "```"
   ]
  },
  {
   "cell_type": "code",
   "execution_count": null,
   "metadata": {
    "slideshow": {
     "slide_type": "slide"
    },
    "tags": [
     "hide-cell"
    ]
   },
   "outputs": [],
   "source": []
  },
  {
   "cell_type": "markdown",
   "metadata": {
    "slideshow": {
     "slide_type": "slide"
    },
    "tags": [
     "hide-input"
    ]
   },
   "source": [
    "There are three types of cells:\n",
    "\n",
    "* Python cells allow to execute Python code (the default)\n",
    "* Markdown cells which allow to document the code nicely (code, equations), like the current one.\n",
    "* Raw cell are passed to nbconvert directly, it allows you to generate html or pdf versions of your notebook (not used here)."
   ]
  },
  {
   "cell_type": "markdown",
   "metadata": {
    "slideshow": {
     "slide_type": "slide"
    }
   },
   "source": [
    "**Beware that the order of execution of the cells matters!**\n",
    "\n",
    "In the next three cells, put the following commands:\n",
    "\n",
    "1. `text = \"Text A\"`\n",
    "2. `text = \"Text B\"`\n",
    "3. `print(text)`\n",
    "\n",
    "and run them in different orders (e.g. 1, 2, 3, 1, 3)"
   ]
  },
  {
   "cell_type": "code",
   "execution_count": null,
   "metadata": {
    "slideshow": {
     "slide_type": "slide"
    }
   },
   "outputs": [],
   "source": []
  },
  {
   "cell_type": "code",
   "execution_count": null,
   "metadata": {
    "slideshow": {
     "slide_type": "slide"
    }
   },
   "outputs": [],
   "source": []
  },
  {
   "cell_type": "code",
   "execution_count": null,
   "metadata": {
    "slideshow": {
     "slide_type": "slide"
    }
   },
   "outputs": [],
   "source": []
  },
  {
   "cell_type": "markdown",
   "metadata": {
    "slideshow": {
     "slide_type": "slide"
    }
   },
   "source": [
    "Executing a cell can therefore influence cells before and after it. If you want to run the notebook sequentially, select **Kernel/Restart & Run all**.\n",
    "\n",
    "Take a moment to explore the options in the menu (Insert cells, Run cells, Download as Python, etc)."
   ]
  },
  {
   "cell_type": "markdown",
   "metadata": {
    "slideshow": {
     "slide_type": "slide"
    }
   },
   "source": [
    "## Basics In Python\n",
    "\n",
    "### Print Statement And Print Function\n",
    "\n",
    "In python 3, the `print()` function is a regular function:\n",
    "\n",
    "```python\n",
    "print(value1, value2, ...)\n",
    "```\n",
    "\n",
    "You can give it as many arguments as you want (of whatever type), they will be printed one after another separated by spaces.\n",
    "\n",
    "Try to print \"Hello World!\" using two different strings \"Hello\" and \"world!\":"
   ]
  },
  {
   "cell_type": "code",
   "execution_count": null,
   "metadata": {
    "slideshow": {
     "slide_type": "slide"
    }
   },
   "outputs": [],
   "source": []
  },
  {
   "cell_type": "markdown",
   "metadata": {
    "slideshow": {
     "slide_type": "slide"
    }
   },
   "source": [
    "### Data Types\n",
    "\n",
    "As Python is an interpreted language, variables can be assigned without specifying their type: it will be inferred at execution time.\n",
    "\n",
    "The only thing that counts is how you initialize them and which operations you perform on them.\n",
    "\n",
    "```python\n",
    "a = 42 # Integer\n",
    "b = 3.14159 # Double precision float\n",
    "c = 'My string' # String\n",
    "d = False # Boolean\n",
    "e = a > b # Boolean\n",
    "```\n",
    "\n",
    "Print these variables as well as their type:\n",
    "\n",
    "```python\n",
    "print(type(a))\n",
    "```"
   ]
  },
  {
   "cell_type": "code",
   "execution_count": null,
   "metadata": {
    "slideshow": {
     "slide_type": "slide"
    }
   },
   "outputs": [],
   "source": []
  },
  {
   "cell_type": "markdown",
   "metadata": {
    "slideshow": {
     "slide_type": "slide"
    }
   },
   "source": [
    "### Assignment Statement And Operators\n",
    "\n",
    "#### Assignment Statement\n",
    "\n",
    "The assignment can be done for a single variable, or for a tuple of variables separated by commas:\n",
    "\n",
    "\n",
    "```python\n",
    "m = 5 + 7\n",
    "\n",
    "x, y = 10, 20\n",
    "\n",
    "a, b, c, d = 5, 'Text', None, x==y\n",
    "```\n",
    "\n",
    "Try these assignments and print the values of the variables."
   ]
  },
  {
   "cell_type": "code",
   "execution_count": null,
   "metadata": {
    "slideshow": {
     "slide_type": "slide"
    }
   },
   "outputs": [],
   "source": []
  },
  {
   "cell_type": "markdown",
   "metadata": {
    "slideshow": {
     "slide_type": "slide"
    }
   },
   "source": [
    "#### Operators\n",
    "\n",
    "Most usual operators are available:\n",
    "\n",
    "```python\n",
    "+ , - , * , ** , / , // , %\n",
    "== , != , > , >= , < , <=\n",
    "and , or , not\n",
    "```\n",
    "\n",
    "Try them and comment on their behaviour. Observe in particular what happens when you add an integer and a float."
   ]
  },
  {
   "cell_type": "code",
   "execution_count": null,
   "metadata": {},
   "outputs": [],
   "source": []
  },
  {
   "cell_type": "markdown",
   "metadata": {},
   "source": [
    "Notice how integer division is handled by python 3:\n",
    "\n",
    "```python\n",
    "print(5/2)\n",
    "print(5/2.)\n",
    "```"
   ]
  },
  {
   "cell_type": "code",
   "execution_count": null,
   "metadata": {},
   "outputs": [],
   "source": []
  },
  {
   "cell_type": "markdown",
   "metadata": {},
   "source": [
    "### Strings\n",
    "\n",
    "A string in Python can be surrounded by either single or double quotes. Use the function `print()` to see the results of the following statements:\n",
    "\n",
    "```python\n",
    "string1 = 'abc'\n",
    "\n",
    "string2 = \"def\"\n",
    "\n",
    "string3 = \"\"\"aaa\n",
    "bbb\n",
    "ccc\"\"\"\n",
    "\n",
    "string4 = \"xxx'yyy\"\n",
    "\n",
    "string5 = 'mmm\"nnn'\n",
    "\n",
    "string6 = \"aaa\\nbbb\\nccc\"\n",
    "```"
   ]
  },
  {
   "cell_type": "code",
   "execution_count": null,
   "metadata": {},
   "outputs": [],
   "source": []
  },
  {
   "cell_type": "markdown",
   "metadata": {},
   "source": [
    "### Lists\n",
    "\n",
    "Python knows a number of compound data types, used to group together other values. The most versatile is the list, which can be written as a list of comma-separated values (items) between square brackets `[]`. List items need not all to have the same type. \n",
    "\n",
    "```python\n",
    "A = ['spam', 'eggs', 100, 1234]\n",
    "```\n",
    "\n",
    "Define this list and print it:"
   ]
  },
  {
   "cell_type": "code",
   "execution_count": null,
   "metadata": {},
   "outputs": [],
   "source": []
  },
  {
   "cell_type": "markdown",
   "metadata": {},
   "source": [
    "The length of a list is available through the `len()` function:\n",
    "\n",
    "```python\n",
    "len(A)\n",
    "```"
   ]
  },
  {
   "cell_type": "code",
   "execution_count": null,
   "metadata": {},
   "outputs": [],
   "source": []
  },
  {
   "cell_type": "markdown",
   "metadata": {},
   "source": [
    "To access the elements of the list, indexing and slicing can be used. As in C, indices start at 0:\n",
    "\n",
    "```python\n",
    "A[0] # First element\n",
    "\n",
    "A[3] # Fourth element\n",
    "\n",
    "A[-2] # Negative indices starts from the last element\n",
    "\n",
    "A[1:-1] # Second until last element\n",
    "\n",
    "A[:2] + ['bacon', 2*2] # Lists can be concatenated\n",
    "```"
   ]
  },
  {
   "cell_type": "code",
   "execution_count": null,
   "metadata": {},
   "outputs": [],
   "source": []
  },
  {
   "cell_type": "markdown",
   "metadata": {},
   "source": [
    "Copying lists can cause some problems: \n",
    "\n",
    "```python\n",
    "A = [1,2,3] # Initial list\n",
    "\n",
    "B = A # \"Copy\" the list by reference \n",
    "\n",
    "A[0] = 9 # Change one item of the initial list\n",
    "```\n",
    "\n",
    "Now print A and B. What happens?"
   ]
  },
  {
   "cell_type": "code",
   "execution_count": null,
   "metadata": {},
   "outputs": [],
   "source": []
  },
  {
   "cell_type": "markdown",
   "metadata": {},
   "source": [
    "The solution is to use the `copy` method of lists:\n",
    "\n",
    "```python\n",
    "A = [1, 2, 3]\n",
    "B = A.copy()\n",
    "A[0] = 9\n",
    "```"
   ]
  },
  {
   "cell_type": "code",
   "execution_count": null,
   "metadata": {},
   "outputs": [],
   "source": []
  },
  {
   "cell_type": "markdown",
   "metadata": {},
   "source": [
    "Lists are objects, with a lot of different methods (type `help(list)`):\n",
    "\n",
    "-   `list.append(x)`: Add an item to the end of the list.\n",
    "-   `list.extend(L)`: Extend the list by appending all the items in the given list.\n",
    "-   `list.insert(i, x)`: Insert an item at a given position.\n",
    "-   `list.remove(x)`: Remove the first item from the list whose value is x.\n",
    "-   `list.pop(i)`: Remove the item at the given position in the list, and return it.\n",
    "-   `list.index(x)`: Return the index in the list of the first item whose value is x.\n",
    "-   `list.count(x)`: Return the number of times x appears in the list.\n",
    "-   `list.sort()`: Sort the items of the list, in place.\n",
    "-   `list.reverse()`: Reverse the elements of the list, in place.\n",
    "\n",
    "Try out quickly these methods."
   ]
  },
  {
   "cell_type": "code",
   "execution_count": null,
   "metadata": {},
   "outputs": [],
   "source": []
  },
  {
   "cell_type": "markdown",
   "metadata": {},
   "source": [
    "### Dictionaries\n",
    "\n",
    "Another useful data type built into Python is the dictionary. Unlike lists, which are indexed by a range of numbers, dictionaries are indexed by keys, which can be any immutable type; strings and numbers can always be keys.\n",
    "\n",
    "Dictionaries can be defined by curly braces `{}` instead of square brackets. The content is defined by `key:value` pairs:\n",
    "\n",
    "```python\n",
    "tel = {'jack': 4098, 'sape': 4139}\n",
    "tel['guido'] = 4127\n",
    "print(tel)\n",
    "print(tel['jack'])\n",
    "```\n",
    "\n",
    "Warning: assigning a value to a new key creates the entry!"
   ]
  },
  {
   "cell_type": "code",
   "execution_count": null,
   "metadata": {},
   "outputs": [],
   "source": []
  },
  {
   "cell_type": "markdown",
   "metadata": {},
   "source": [
    "The `keys()` method of a dictionary object returns a **list** of all the keys used in the dictionary, in arbitrary order (if you want it sorted, just apply the `sorted()` function on it). \n",
    "\n",
    "```python\n",
    "K = tel.keys()\n",
    "L = sorted(K)\n",
    "```\n",
    "\n",
    "To check whether a single key is in the dictionary, use the `in` keyword:\n",
    "\n",
    "```python\n",
    "'guido' in tel\n",
    "```"
   ]
  },
  {
   "cell_type": "code",
   "execution_count": null,
   "metadata": {},
   "outputs": [],
   "source": []
  },
  {
   "cell_type": "markdown",
   "metadata": {},
   "source": [
    "### Flow Control\n",
    "\n",
    "#### If Statement \n",
    "\n",
    "Perhaps the most well-known conditional statement type is the `if` statement. For example:\n",
    "\n",
    "```python\n",
    "if x < 0 :\n",
    "    print('x =', x, 'is negative')\n",
    "elif x == 0:\n",
    "    print('x =', x, 'is zero')\n",
    "else:\n",
    "    print('x =', x, 'is positive')\n",
    "```\n",
    "\n",
    "Give a value to the variable `x` and see what this statement does:"
   ]
  },
  {
   "cell_type": "code",
   "execution_count": null,
   "metadata": {},
   "outputs": [],
   "source": []
  },
  {
   "cell_type": "markdown",
   "metadata": {},
   "source": [
    "**Important!** The main particularity of the Python syntax is that the scope of the different structures (functions, for, if, while, etc...) is defined by the indentation.\n",
    "\n",
    "A reasonable choice is to use four spaces for the indentation instead of tabs (configure your text editor if you are not using Jupyter).\n",
    "\n",
    "When the scope is terminated, you need to come back at **exactly** the same level of indentation. Try this misaligned structure and observe what happens:\n",
    "\n",
    "```python\n",
    "if x < 0 :\n",
    "    print('x =', x, 'is negative')\n",
    " elif x == 0:\n",
    "    print('x =', x, 'is zero')\n",
    " else:\n",
    "    print('x =', x, 'is positive')\n",
    "```\n",
    "\n",
    "Jupyter is nice enough to highlight it for you, but not all text editors do that..."
   ]
  },
  {
   "cell_type": "code",
   "execution_count": null,
   "metadata": {},
   "outputs": [],
   "source": []
  },
  {
   "cell_type": "markdown",
   "metadata": {},
   "source": [
    "In a if statement, here can be zero or more elif parts, and the else part is optional. What to do when the condition is true should be indented. \n",
    "\n",
    "The keyword `\"elif\"` is a shortened form of `\"else if\"`, and is useful to avoid excessive indentation.\n",
    "\n",
    "An `if ... elif ... elif ...` sequence is a substitute for the switch or case statements found in other languages."
   ]
  },
  {
   "cell_type": "markdown",
   "metadata": {},
   "source": [
    "#### For Loop\n",
    "\n",
    "The for statement in Python differs a bit from what you may be used to in C or Pascal.\n",
    "\n",
    "Rather than always iterating over an arithmetic progression of numbers (like in Pascal), or giving the user the ability to define both the iteration step and halting condition (as C), Python's for statement iterates over the items of any sequence (a list or a string), in the order they appear in the sequence.\n",
    "\n",
    "```python\n",
    "list_words = ['cat', 'window', 'defenestrate']\n",
    "\n",
    "for word in list_words:\n",
    "    print(word, len(word))\n",
    "```"
   ]
  },
  {
   "cell_type": "code",
   "execution_count": null,
   "metadata": {},
   "outputs": [],
   "source": []
  },
  {
   "cell_type": "markdown",
   "metadata": {},
   "source": [
    "If you do need to iterate over a sequence of numbers, the built-in function `range()` comes in handy. It generates lists containing arithmetic progressions:\n",
    "\n",
    "```python\n",
    "for i in range(5):\n",
    "    print(i)\n",
    "```"
   ]
  },
  {
   "cell_type": "code",
   "execution_count": null,
   "metadata": {},
   "outputs": [],
   "source": []
  },
  {
   "cell_type": "markdown",
   "metadata": {},
   "source": [
    "`range(N)` generates a list of N number starting from 0 until N-1.\n",
    "\n",
    "It is possible to specify a start value (0 by default), an end value (excluded) and even a step:\n",
    "\n",
    "```python\n",
    "range(5, 10)\n",
    "range(5, 10, 2)\n",
    "```"
   ]
  },
  {
   "cell_type": "code",
   "execution_count": null,
   "metadata": {},
   "outputs": [],
   "source": []
  },
  {
   "cell_type": "markdown",
   "metadata": {},
   "source": [
    "To iterate over the indices of a sequence, you can combine range() and len() as follows:\n",
    "\n",
    "```python\n",
    "list_words = ['Mary', 'had', 'a', 'little', 'lamb']\n",
    "\n",
    "for idx in range(len(list_words)):\n",
    "    print(idx, list_words[idx])\n",
    "```"
   ]
  },
  {
   "cell_type": "code",
   "execution_count": null,
   "metadata": {},
   "outputs": [],
   "source": []
  },
  {
   "cell_type": "markdown",
   "metadata": {},
   "source": [
    "The `enumerate()` function allows to get at the same time the index and the content:\n",
    "\n",
    "```python\n",
    "for idx, word in enumerate(list_words):\n",
    "    print(idx, word)\n",
    "```"
   ]
  },
  {
   "cell_type": "code",
   "execution_count": null,
   "metadata": {},
   "outputs": [],
   "source": []
  },
  {
   "cell_type": "markdown",
   "metadata": {},
   "source": [
    "### Functions\n",
    "\n",
    "As in most procedural languages, you can define functions. Functions are defined by the keyword `def`. Only the parameters of the function are specified (without type), not the return values.\n",
    "\n",
    "The content of the function has to be incremented as with for loops.\n",
    "\n",
    "Return values can be specified with the `return` keywork. It is possible to return several values at the same time, separated by commas.\n",
    "\n",
    "```python\n",
    "def say_hello_to(first, second):\n",
    "    question = 'Hello, I am '+ first + '!'\n",
    "    answer = 'Hello '+ first + '! I am ' + second + '!'\n",
    "    return question, answer\n",
    "\n",
    "question, answer = say_hello_to('Jack', 'Gill')\n",
    "```"
   ]
  },
  {
   "cell_type": "code",
   "execution_count": null,
   "metadata": {},
   "outputs": [],
   "source": []
  },
  {
   "cell_type": "markdown",
   "metadata": {},
   "source": [
    "Functions can have several parameters (with default values or not). The name of the parameter can be specified during the call, so their order won't matter.\n",
    "\n",
    "\n",
    "\n",
    "Try to call the `cos_and_sin()` function in different ways:\n",
    "\n",
    "```python\n",
    "# import the math package\n",
    "from math import *\n",
    "\n",
    "def cos_and_sin(value, freq, phase=0):\n",
    "    \"\"\"\n",
    "    Returns the cosine and sine functions\n",
    "    of a value, given a frequency and a phase.\n",
    "    \"\"\"\n",
    "    angle = 2*pi * freq * value + phase\n",
    "    return cos(angle), sin(angle)\n",
    "\n",
    "v = 1.7\n",
    "f = 4\n",
    "p = pi/2\n",
    "\n",
    "c, s = cos_and_sin(v, f)\n",
    "c, s = cos_and_sin(freq=f, value=v)\n",
    "c, s = cos_and_sin(value=v, phase=p, freq=f)\n",
    "```"
   ]
  },
  {
   "cell_type": "code",
   "execution_count": null,
   "metadata": {},
   "outputs": [],
   "source": []
  },
  {
   "cell_type": "markdown",
   "metadata": {},
   "source": [
    "## Exercise\n",
    "\n",
    "In cryptography, a Caesar cipher is a very simple encryption technique in which each letter in the plain text is replaced by a letter some fixed number of positions down the alphabet. For example, with a shift of 3, A would be replaced by D, B would become E, and so on. The method is named after Julius Caesar, who used it to communicate with his generals. ROT-13 (\"rotate by 13 places\") is a widely used example of a Caesar cipher where the shift is 13. In Python, the key for ROT-13 may be represented by means of the following dictionary:"
   ]
  },
  {
   "cell_type": "code",
   "execution_count": null,
   "metadata": {},
   "outputs": [],
   "source": [
    "code = {'a':'n', 'b':'o', 'c':'p', 'd':'q', 'e':'r', 'f':'s',\n",
    "        'g':'t', 'h':'u', 'i':'v', 'j':'w', 'k':'x', 'l':'y',\n",
    "        'm':'z', 'n':'a', 'o':'b', 'p':'c', 'q':'d', 'r':'e',\n",
    "        's':'f', 't':'g', 'u':'h', 'v':'i', 'w':'j', 'x':'k',\n",
    "        'y':'l', 'z':'m', 'A':'N', 'B':'O', 'C':'P', 'D':'Q',\n",
    "        'E':'R', 'F':'S', 'G':'T', 'H':'U', 'I':'V', 'J':'W',\n",
    "        'K':'X', 'L':'Y', 'M':'Z', 'N':'A', 'O':'B', 'P':'C',\n",
    "        'Q':'D', 'R':'E', 'S':'F', 'T':'G', 'U':'H', 'V':'I', \n",
    "        'W':'J', 'X':'K', 'Y':'L', 'Z':'M'}"
   ]
  },
  {
   "cell_type": "markdown",
   "metadata": {},
   "source": [
    "Your task in this exercise is to implement an encoder/decoder of ROT-13. Once you're done, you will be able to read the following secret message:\n",
    "\n",
    "```\n",
    "BZT! guvf vf fb obevat.\n",
    "```\n",
    "\n",
    "The idea is to write a `decode()` function taking the message and the code dictionary as inputs, and returning the decoded message. It should iterate over all letters of the message and replace them with the decoded letter. If the letter is not in the dictionary, keep it as it is. "
   ]
  },
  {
   "cell_type": "code",
   "execution_count": null,
   "metadata": {},
   "outputs": [],
   "source": []
  },
  {
   "cell_type": "code",
   "execution_count": null,
   "metadata": {},
   "outputs": [],
   "source": []
  }
 ],
 "metadata": {
  "kernelspec": {
   "display_name": "Python 3",
   "language": "python",
   "name": "python3"
  },
  "language_info": {
   "codemirror_mode": {
    "name": "ipython",
    "version": 3
   },
   "file_extension": ".py",
   "mimetype": "text/x-python",
   "name": "python",
   "nbconvert_exporter": "python",
   "pygments_lexer": "ipython3",
   "version": "3.8.5"
  }
 },
 "nbformat": 4,
 "nbformat_minor": 4
}
